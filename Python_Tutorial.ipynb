{
 "metadata": {
  "name": "Eleisha Jackson 01-17-2014 Python Tutorial"
 },
 "nbformat": 3,
 "nbformat_minor": 0,
 "worksheets": [
  {
   "cells": [
    {
     "cell_type": "code",
     "collapsed": false,
     "input": "DNA = 'AGCTTTTCATTCTGACTGCAACGGGCAATATGTCTCTGTGTGGATTAAAAAAAGAGTGTCTGATAGCAGC'",
     "language": "python",
     "metadata": {},
     "outputs": [],
     "prompt_number": 1
    },
    {
     "cell_type": "code",
     "collapsed": false,
     "input": "seq_length = len(DNA)",
     "language": "python",
     "metadata": {},
     "outputs": [],
     "prompt_number": 2
    },
    {
     "cell_type": "code",
     "collapsed": false,
     "input": "print seq_length",
     "language": "python",
     "metadata": {},
     "outputs": [
      {
       "output_type": "stream",
       "stream": "stdout",
       "text": "70\n"
      }
     ],
     "prompt_number": 6
    },
    {
     "cell_type": "code",
     "collapsed": false,
     "input": "seq_array = list(DNA)",
     "language": "python",
     "metadata": {},
     "outputs": [],
     "prompt_number": 5
    },
    {
     "cell_type": "code",
     "collapsed": false,
     "input": "print seq_array",
     "language": "python",
     "metadata": {},
     "outputs": [
      {
       "output_type": "stream",
       "stream": "stdout",
       "text": "['A', 'G', 'C', 'T', 'T', 'T', 'T', 'C', 'A', 'T', 'T', 'C', 'T', 'G', 'A', 'C', 'T', 'G', 'C', 'A', 'A', 'C', 'G', 'G', 'G', 'C', 'A', 'A', 'T', 'A', 'T', 'G', 'T', 'C', 'T', 'C', 'T', 'G', 'T', 'G', 'T', 'G', 'G', 'A', 'T', 'T', 'A', 'A', 'A', 'A', 'A', 'A', 'A', 'G', 'A', 'G', 'T', 'G', 'T', 'C', 'T', 'G', 'A', 'T', 'A', 'G', 'C', 'A', 'G', 'C']\n"
      }
     ],
     "prompt_number": 7
    },
    {
     "cell_type": "code",
     "collapsed": false,
     "input": "G_nt = 0\nC_nt = 0\nT_nt = 0\nA_nt = 0\n\nfor nt in seq_array:\n    if nt == 'A':\n        A_nt = A_nt + 1\n    elif nt == 'G':\n        G_nt = G_nt + 1\n    elif nt == 'T':\n        T_nt = T_nt + 1\n    elif nt == 'C':\n        C_nt = C_nt + 1\n    else:\n        print \"Weird nt\"\n\nprint A_nt, C_nt, G_nt, T_nt\n",
     "language": "python",
     "metadata": {},
     "outputs": [
      {
       "output_type": "stream",
       "stream": "stdout",
       "text": "20 12 17 21\n"
      }
     ],
     "prompt_number": 10
    },
    {
     "cell_type": "code",
     "collapsed": false,
     "input": "seq_array = 'CTTGTTTCAAATCCTATTTTTTGGACTGTCCCGTCTTCTATCTACACTACTCGGGCCCCTGGGGCCCAGCACACTCTTTGTCAATATCCGGGTGGCGGGCGGACGAAGTAGTTAGAGTGCATAGCAGTCGCGCGGATTCAGAAACAATGTTAAATTCATCATCTTCCGATTCAAGTGGGGAGAATCCATAAGCTCGGGGCCGACTATCGACCCTCTCGCACGCGGTGGTGGCACTGGTCAACGCAGAGTCATAAGTGTACGTTGCGCAGAACACTACTGTAGGGTGAGTACCTCTACCCAGATGCCACTGTCGGGCGCTGCGCTTGTGGTTGCAGTGAAAGAATTGCGTTGCTGGCTTTAACTACGAGAGGATACTCCCAGACTGCGATTCCAGGAAAGCCTCAAAAGCGAGGCTTTAAATGCGCCGTGCGACTGTCGATGAGTTAGATTGGTTGAGCACACAAATGCTCGTGGCTGGAGAATTCGTATTATAATTTTGTTAAGGCCCAGATGCCGAAGGTTAAGATCGCTCGTCAACGCCCGAATGGCGAGTAATGTATTGTATTGGCCGGTCTCCCGGAGTTTGAGAGAGTATGAGATTGGATCTCCGGGTCGACGGGTAAAGCTCTCGCTTATAACAGAAGTTGCCAGGGTTGGATTATCCTAAGTGTTCTGATCCCTCAATTGGCACCTTATCGAGCCATCTAGCTGCGCGCCAATTGAGGCATAAGACTTGACAGAGTGCGTATCGCCTGTCGTACCCGAACCACGACCCTAGTTGGATCGGGGGTTCCTCTTCACGTGCTACTGTGTGAGAACTTTCCCGAAACAAGTCGGTCTCCGCCAGTCGACAC'\nG_nt = 0\nC_nt = 0\nT_nt = 0\nA_nt = 0\n\nfor nt in seq_array:\n    if nt == 'A':\n        A_nt = A_nt + 1\n    elif nt == 'G':\n        G_nt = G_nt + 1\n    elif nt == 'T':\n        T_nt = T_nt + 1\n    elif nt == 'C':\n        C_nt = C_nt + 1\n    else:\n        print \"Weird nt\"\n\nprint A_nt, C_nt, G_nt, T_nt\n",
     "language": "python",
     "metadata": {},
     "outputs": [
      {
       "output_type": "stream",
       "stream": "stdout",
       "text": "196 209 231 218\n"
      }
     ],
     "prompt_number": 11
    },
    {
     "cell_type": "code",
     "collapsed": false,
     "input": "#This is the part that transcribes the RNA to DNA\nDNA_seq = 'GATGGAACTTGACTACGTAAATT'\nDNA_array = list(DNA_seq)\nRNA_seq = ''\nfor nt in DNA_array:\n    if nt == 'A':\n        RNA_seq = RNA_seq + nt\n        #RNA_seq.append(nt)\n        #print RNA_seq\n    elif nt == 'G':\n        RNA_seq = RNA_seq + nt\n        #RNA_seq.append(nt)\n        #print RNA_seq\n    elif nt == 'T':\n        RNA_seq = RNA_seq + 'U'\n        #RNA_seq.append('U')\n        #print RNA_seq\n    elif nt == 'C':\n        RNA_seq = RNA_seq + nt\n    else:\n        print \"Weird nt\"\n#print .join(RNA_seq)\nprint RNA_seq\n#print A_nt, C_nt, G_nt, T_nt",
     "language": "python",
     "metadata": {},
     "outputs": [
      {
       "output_type": "stream",
       "stream": "stdout",
       "text": "GAUGGAACUUGACUACGUAAAUU\n"
      }
     ],
     "prompt_number": 20
    },
    {
     "cell_type": "code",
     "collapsed": false,
     "input": "#This is the part that transcribes the RNA to DNA\nDNA_seq = 'TGCCGGCAGTCCCCAAGCTGTCTGCGACCCGGCATGTCGGCGCAATCGCCAGAGTGATGCTAGTGGTTAAAGCCGATCCCCGCAATGCTGATTTTTGCCTGGACATTCCATGAAGAAGATATCGCACCGACATTAGAATCATCGTTGCTATATCTGAACGGACTGCACTGTATACATGAGTCGCATCCAACAATCCCACCCCATTGAGCAAAGAACGTGAGCGCGTTAGTTAAGTTATTCGAATAGTACCTAGTCAGGGGTGTAATTTGAATACTCAGGAGAGAGAAGATCTTCGGCACGTTGCTTTCAGCCGATCTGCAAAACGAGGCTGCCGCATGCCGGGAGTGTCTTACCTTAGGTCACAAAAGGCACATCGCGAATATCAGCGGAAACCAGTACAGCGAGATGCGGAGAATGGTTTGGGCGTGAACGAATAACACGCTTATGGCACCTTTCCCGGCCTGTGCGCCTCTTTCGCTGCTTCAGCACTTTTCGCCCCTGCGTAGGAACCAGAATGGTCTAAACAACAGAATCCGTTCAGTGCAGTCGAATGCGTGTACAGTAACGAGCCAGTCATTCCGCCAGGACTTGGTTCGCGAGAGTAAAAAGTTTGATGTACACGATCCCCTGCAAACGAGCTGGTCAGCTCTAGCTGCCAAGTCTACGCCACGTCCTCGTGGCATAGCACATGAGGTTCATTAAGAGTACTGATAGCTGAGAGCATTTGGCAGACGGCTAAGTGGCACCACCCAAGAGGACACACGGAACACAGCAGGTAGGACGTGCCGCGTATGGTGGCTGGTCTCCGAAGCTATGTTCCATGGCTTTGTACATCTTCACACACATGAAGCTCCACTCCCCCCAAGATCGCCTTGCCACCACAATTCCGCCTCTGACAGTATCACCGGCGGCCGGGCTGGGTTTGTGCCGAGGTCCGCTACAGCTAGTTTAAATGCCTGGCCACCACCCGGGCCGTAGCGGTTACCGTATACCCG'\nDNA_array = list(DNA_seq)\nRNA_seq = ''\nfor nt in DNA_array:\n    if nt == 'A':\n        RNA_seq = RNA_seq + nt\n        #RNA_seq.append(nt)\n        #print RNA_seq\n    elif nt == 'G':\n        RNA_seq = RNA_seq + nt\n        #RNA_seq.append(nt)\n        #print RNA_seq\n    elif nt == 'T':\n        RNA_seq = RNA_seq + 'U'\n        #RNA_seq.append('U')\n        #print RNA_seq\n    elif nt == 'C':\n        RNA_seq = RNA_seq + nt\n    else:\n        print \"Weird nt\"\n#print .join(RNA_seq)\nprint RNA_seq\n#print A_nt, C_nt, G_nt, T_nt",
     "language": "python",
     "metadata": {},
     "outputs": [
      {
       "output_type": "stream",
       "stream": "stdout",
       "text": "UGCCGGCAGUCCCCAAGCUGUCUGCGACCCGGCAUGUCGGCGCAAUCGCCAGAGUGAUGCUAGUGGUUAAAGCCGAUCCCCGCAAUGCUGAUUUUUGCCUGGACAUUCCAUGAAGAAGAUAUCGCACCGACAUUAGAAUCAUCGUUGCUAUAUCUGAACGGACUGCACUGUAUACAUGAGUCGCAUCCAACAAUCCCACCCCAUUGAGCAAAGAACGUGAGCGCGUUAGUUAAGUUAUUCGAAUAGUACCUAGUCAGGGGUGUAAUUUGAAUACUCAGGAGAGAGAAGAUCUUCGGCACGUUGCUUUCAGCCGAUCUGCAAAACGAGGCUGCCGCAUGCCGGGAGUGUCUUACCUUAGGUCACAAAAGGCACAUCGCGAAUAUCAGCGGAAACCAGUACAGCGAGAUGCGGAGAAUGGUUUGGGCGUGAACGAAUAACACGCUUAUGGCACCUUUCCCGGCCUGUGCGCCUCUUUCGCUGCUUCAGCACUUUUCGCCCCUGCGUAGGAACCAGAAUGGUCUAAACAACAGAAUCCGUUCAGUGCAGUCGAAUGCGUGUACAGUAACGAGCCAGUCAUUCCGCCAGGACUUGGUUCGCGAGAGUAAAAAGUUUGAUGUACACGAUCCCCUGCAAACGAGCUGGUCAGCUCUAGCUGCCAAGUCUACGCCACGUCCUCGUGGCAUAGCACAUGAGGUUCAUUAAGAGUACUGAUAGCUGAGAGCAUUUGGCAGACGGCUAAGUGGCACCACCCAAGAGGACACACGGAACACAGCAGGUAGGACGUGCCGCGUAUGGUGGCUGGUCUCCGAAGCUAUGUUCCAUGGCUUUGUACAUCUUCACACACAUGAAGCUCCACUCCCCCCAAGAUCGCCUUGCCACCACAAUUCCGCCUCUGACAGUAUCACCGGCGGCCGGGCUGGGUUUGUGCCGAGGUCCGCUACAGCUAGUUUAAAUGCCUGGCCACCACCCGGGCCGUAGCGGUUACCGUAUACCCG\n"
      }
     ],
     "prompt_number": 21
    },
    {
     "cell_type": "code",
     "collapsed": false,
     "input": "from Bio.Seq import Seq\nfrom Bio.Alphabet import generic_dna\nmy_dna = Seq('AAAACCCGGT', generic_dna)",
     "language": "python",
     "metadata": {},
     "outputs": [],
     "prompt_number": 22
    },
    {
     "cell_type": "code",
     "collapsed": false,
     "input": "",
     "language": "python",
     "metadata": {},
     "outputs": []
    }
   ],
   "metadata": {}
  }
 ]
}